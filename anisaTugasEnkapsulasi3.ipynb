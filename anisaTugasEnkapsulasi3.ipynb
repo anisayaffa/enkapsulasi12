{
  "nbformat": 4,
  "nbformat_minor": 0,
  "metadata": {
    "colab": {
      "provenance": [],
      "include_colab_link": true
    },
    "kernelspec": {
      "name": "python3",
      "display_name": "Python 3"
    },
    "language_info": {
      "name": "python"
    }
  },
  "cells": [
    {
      "cell_type": "markdown",
      "metadata": {
        "id": "view-in-github",
        "colab_type": "text"
      },
      "source": [
        "<a href=\"https://colab.research.google.com/github/anisayaffa/enkapsulasi12/blob/main/anisaTugasEnkapsulasi3.ipynb\" target=\"_parent\"><img src=\"https://colab.research.google.com/assets/colab-badge.svg\" alt=\"Open In Colab\"/></a>"
      ]
    },
    {
      "cell_type": "markdown",
      "source": [
        "Buatlah kelas RekeningBank dengan atribut berikut:\n",
        "\n",
        "*   nama_pemilik (private)\n",
        "*   saldo (private)\n",
        "\n",
        "Berikan metode berikut:\n",
        "\n",
        "*   __init__: Menginisialisasi saldo dan nama_pemilik.\n",
        "*   set_saldo: Mengubah nilai saldo.\n",
        "*   get_saldo: Mengembalikan nilai saldo.\n",
        "*   set_nama_pemilik: Mengubah nama pemilik.\n",
        "*   get_nama_pemilik: Mengembalikan nama pemilik.\n",
        "\n",
        "\n",
        "\n",
        "\n",
        "\n",
        "\n",
        "\n",
        "\n"
      ],
      "metadata": {
        "id": "PktiI90eS6Ee"
      }
    },
    {
      "cell_type": "code",
      "source": [
        "# Desain class\n",
        "class RekeningBank:\n",
        "  def __init__(self, nama, saldo, jumlah):\n",
        "    self.__nama = nama\n",
        "    self.__saldo = saldo\n",
        "    self.__jumlah = jumlah\n",
        "\n",
        "  def set_saldo(self, saldo):\n",
        "    self.__saldo = saldo\n",
        "\n",
        "  def get_saldo(self):\n",
        "    return self.__saldo\n",
        "\n",
        "  def set_nama(self, nama):\n",
        "    self.__nama = nama\n",
        "\n",
        "  def get_nama(self):\n",
        "    return self.__nama\n",
        "\n",
        "  def setor(self):\n",
        "    return self.__saldo + self.__jumlah\n",
        "\n",
        "  def tarik(self):\n",
        "    if self.__saldo < self.__jumlah:\n",
        "      return self.__saldo - self.__jumlah\n",
        "    else :\n",
        "      print('saldo kurang')"
      ],
      "metadata": {
        "id": "Pyj-mkyciVfk"
      },
      "execution_count": 4,
      "outputs": []
    },
    {
      "cell_type": "code",
      "source": [
        "pemilik = RekeningBank('Anisa', 20000000, 5000000)\n",
        "\n",
        "print(f'Nama: {pemilik.get_nama()}')\n",
        "print(f'Saldo bertambah>> {pemilik.get_saldo()}')\n",
        "\n",
        "# Mengakses/menampilkan nama dan gaji setelah diubah\n",
        "pemilik.set_nama('aqila')\n",
        "print(f'Nama: {pemilik.get_nama()}')\n",
        "pemilik.set_saldo(5000000)\n",
        "print(f'saldo bertambah>> {pemilik.get_saldo()}')"
      ],
      "metadata": {
        "id": "aOwy6rfdSga2",
        "colab": {
          "base_uri": "https://localhost:8080/"
        },
        "outputId": "dc6298fc-0fe3-47bf-b0eb-2fa4f7baf045"
      },
      "execution_count": 6,
      "outputs": [
        {
          "output_type": "stream",
          "name": "stdout",
          "text": [
            "Nama: Anisa\n",
            "Saldo bertambah>> 20000000\n",
            "Nama: aqila\n",
            "saldo bertambah>> 5000000\n"
          ]
        }
      ]
    }
  ]
}